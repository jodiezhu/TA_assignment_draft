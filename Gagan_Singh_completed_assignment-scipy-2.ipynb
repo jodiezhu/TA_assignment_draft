{
 "cells": [
  {
   "cell_type": "markdown",
   "metadata": {},
   "source": [
    "<img src='../../../images/wcd_logo.png' width='50%'>\n",
    "-------------\n",
    "\n",
    "<center> <h1> Python for Data Science </h1> </center>\n",
    "<br>\n",
    "<center><h2> Assignment 3: SciPy </h2> </center>\n",
    "\n",
    "<br>\n",
    "<center align=\"left\"> Developed by: </center>\n",
    "<center align=\"left\"> WeCloudData Academy </center>\n",
    "\n",
    "\n",
    "\n",
    "----------"
   ]
  },
  {
   "cell_type": "markdown",
   "metadata": {},
   "source": [
    "## Part 1: Sparse Matrices"
   ]
  },
  {
   "cell_type": "markdown",
   "metadata": {},
   "source": [
    "**Question 1**: \n",
    "\n",
    "Create two random sparse matrices, x and y. The first one must have 1000 rows and 1000 columns and should contain the value 0.99 along the diagonal and 0 everywhere else. The second one should have 1000 rows and 500 columns. Assign random numbers between 50 and 100 to 20% of the values within this matrix. The remaining 80% of the values should be zero. (Hint: look at the scipy.sparse.rand function)\n",
    "\n",
    "Then do a matrix multiplication of x and y, and store the result in a new variable, z"
   ]
  },
  {
   "cell_type": "code",
   "execution_count": 40,
   "metadata": {},
   "outputs": [
    {
     "data": {
      "text/plain": [
       "<1000x500 sparse matrix of type '<class 'numpy.float64'>'\n",
       "\twith 100000 stored elements in Compressed Sparse Row format>"
      ]
     },
     "execution_count": 40,
     "metadata": {},
     "output_type": "execute_result"
    }
   ],
   "source": [
    "import numpy as np\n",
    "\n",
    "# Compressed Sparse Row matrix\n",
    "from scipy.sparse import csr_matrix\n",
    "from scipy.sparse import rand\n",
    "\n",
    "x = csr_matrix(0.99*(np.eye(1000)))\n",
    "\n",
    "#for random numbers in interval [a,b] for matrix p, we perform: (b - a)*p + a*p.ceil()\n",
    "y = rand(1000, 500, density=0.20, format=\"csr\")\n",
    "y = (100-50)*y + 50*y.ceil()\n",
    "z = x * y\n",
    "z"
   ]
  },
  {
   "cell_type": "code",
   "execution_count": null,
   "metadata": {
    "collapsed": true
   },
   "outputs": [],
   "source": []
  },
  {
   "cell_type": "markdown",
   "metadata": {},
   "source": [
    "**Question 2**: \n",
    "\n",
    "Find out how many rows and columns are in the new matrix z, calculted in question 1. Is it what you would expect"
   ]
  },
  {
   "cell_type": "code",
   "execution_count": 41,
   "metadata": {},
   "outputs": [
    {
     "data": {
      "text/plain": [
       "(1000, 500)"
      ]
     },
     "execution_count": 41,
     "metadata": {},
     "output_type": "execute_result"
    }
   ],
   "source": [
    "z.shape"
   ]
  },
  {
   "cell_type": "markdown",
   "metadata": {},
   "source": [
    "Yes, that's what I expected as multiplying two matrices of (1000 x 1000) and (1000 x 500) dimenions will give a matrix of (1000 x 500) dimensions."
   ]
  },
  {
   "cell_type": "markdown",
   "metadata": {},
   "source": [
    "**Question 3**:\n",
    "\n",
    "Calculate the determinant and Frobenius norm of x"
   ]
  },
  {
   "cell_type": "code",
   "execution_count": 42,
   "metadata": {},
   "outputs": [
    {
     "name": "stdout",
     "output_type": "stream",
     "text": [
      "The determinant of x is:  4.317124741065784e-05  and Frobenius of x is: 31.3065488357\n"
     ]
    }
   ],
   "source": [
    "from scipy import linalg\n",
    "import math\n",
    "from scipy.linalg import norm\n",
    "\n",
    "print ('The determinant of x is: ', linalg.det(x.todense()), ' and Frobenius of x is:', norm(x.todense()))"
   ]
  },
  {
   "cell_type": "markdown",
   "metadata": {},
   "source": [
    "**Question 4**:\n",
    "\n",
    "Create a matrix with 1000 rows and 1500 columns by joining the matrices x and y at the side into one matrix"
   ]
  },
  {
   "cell_type": "code",
   "execution_count": 43,
   "metadata": {},
   "outputs": [
    {
     "data": {
      "text/plain": [
       "<1000x1500 sparse matrix of type '<class 'numpy.float64'>'\n",
       "\twith 101000 stored elements in COOrdinate format>"
      ]
     },
     "execution_count": 43,
     "metadata": {},
     "output_type": "execute_result"
    }
   ],
   "source": [
    "from scipy import sparse\n",
    "sparse.hstack((x,y))"
   ]
  },
  {
   "cell_type": "markdown",
   "metadata": {},
   "source": [
    "## Part 2: Stats in Scipy"
   ]
  },
  {
   "cell_type": "code",
   "execution_count": 44,
   "metadata": {
    "collapsed": true
   },
   "outputs": [],
   "source": [
    "from scipy import stats\n",
    "import numpy as np"
   ]
  },
  {
   "cell_type": "markdown",
   "metadata": {},
   "source": [
    "**Question 5**:\n",
    "Create two samples of 1000 numbers each. The first should be from a standard normal distribution (i.e. mean 0 and standard deviation of 1) and the second should be from a normal distribution with mean 10 and standard distribution 3.\n",
    "\n",
    "Do a t-test on these two datasets. Is the result what you would expect?"
   ]
  },
  {
   "cell_type": "code",
   "execution_count": 75,
   "metadata": {
    "collapsed": true
   },
   "outputs": [],
   "source": [
    "import numpy as np\n",
    "\n",
    "#standard normal distribution\n",
    "sample1 = np.random.standard_normal(1000)\n",
    "\n",
    "\n",
    "#normal disribution with mean 10 and standard deviation 3\n",
    "sample2 = np.random.normal(10, 3, 1000)\n"
   ]
  },
  {
   "cell_type": "code",
   "execution_count": 76,
   "metadata": {},
   "outputs": [
    {
     "data": {
      "text/plain": [
       "Ttest_indResult(statistic=-97.466413946853166, pvalue=0.0)"
      ]
     },
     "execution_count": 76,
     "metadata": {},
     "output_type": "execute_result"
    }
   ],
   "source": [
    "from scipy import stats\n",
    "stats.ttest_ind(sample1, sample2)"
   ]
  },
  {
   "cell_type": "markdown",
   "metadata": {},
   "source": [
    "**Question 6:** \n",
    "Use Plotly to plot histograms of the two distributions you just created. The histograms for each should be on the same plot."
   ]
  },
  {
   "cell_type": "code",
   "execution_count": 77,
   "metadata": {},
   "outputs": [
    {
     "data": {
      "image/png": "[encoded data removed]",
      "text/plain": [
       "<matplotlib.figure.Figure at 0x28baa90af28>"
      ]
     },
     "execution_count": 77,
     "metadata": {},
     "output_type": "execute_result"
    }
   ],
   "source": [
    "import matplotlib.pyplot as plt\n",
    "hist_data = [sample1,sample2]\n",
    "plt.close()   # to clear any previous plots if running with new samples\n",
    "plt.hist(hist_data)\n",
    "fig = plt.gcf()\n",
    "fig"
   ]
  },
  {
   "cell_type": "code",
   "execution_count": null,
   "metadata": {
    "collapsed": true
   },
   "outputs": [],
   "source": []
  }
 ],
 "metadata": {
  "anaconda-cloud": {},
  "kernelspec": {
   "display_name": "Python 3",
   "language": "python",
   "name": "python3"
  },
  "language_info": {
   "codemirror_mode": {
    "name": "ipython",
    "version": 3
   },
   "file_extension": ".py",
   "mimetype": "text/x-python",
   "name": "python",
   "nbconvert_exporter": "python",
   "pygments_lexer": "ipython3",
   "version": "3.6.1"
  }
 },
 "nbformat": 4,
 "nbformat_minor": 1
}
