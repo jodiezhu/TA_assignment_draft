{
 "cells": [
  {
   "cell_type": "markdown",
   "metadata": {},
   "source": [
    "<img src='../../../images/wcd_logo.png' width='50%'>\n",
    "-------------\n",
    "\n",
    "<center> <h1> Python for Data Science </h1> </center>\n",
    "<br>\n",
    "<center><h2> Assignment 3: SciPy </h2> </center>\n",
    "\n",
    "<br>\n",
    "<center align=\"left\"> Developed by: </center>\n",
    "<center align=\"left\"> WeCloudData Academy </center>\n",
    "\n",
    "\n",
    "\n",
    "----------"
   ]
  },
  {
   "cell_type": "markdown",
   "metadata": {},
   "source": [
    "In this exercise you will exercise how to import libraries, load datasets, subset dataframes, summerize data, visualize data and simple test the realtion between the groups.\n",
    "\n",
    "The dataset we practice is the Iris flower dataset (a multivariate data set introduced by the British statistician and biologist Ronald Fisher in his 1936 paper The use of multiple measurements in taxonomic problems as an example of linear discriminant analysis). You could look up the description of dataframe here: \n",
    "\n",
    "https://en.wikipedia.org/wiki/Iris_flower_data_set\n"
   ]
  },
  {
   "cell_type": "markdown",
   "metadata": {},
   "source": [
    "## Step 1: Import libraries"
   ]
  },
  {
   "cell_type": "code",
   "execution_count": 1,
   "metadata": {
    "collapsed": true
   },
   "outputs": [],
   "source": [
    "import numpy as np\n",
    "import pandas as pd\n",
    "import scipy\n",
    "import matplotlib.pylab as plt"
   ]
  },
  {
   "cell_type": "markdown",
   "metadata": {},
   "source": [
    "## Step 2: Load Iris dataset"
   ]
  },
  {
   "cell_type": "markdown",
   "metadata": {},
   "source": [
    "For the convenience, we could load the data directly from the Machine Learning repository.\n",
    "\n",
    "We are using pandas to load the data. Pandas is a frequently used library in this industry. We will have a tutorial about pandas later on. You are highly recommend to expolre it before the tutorial. To learn more, please refer: http://pandas.pydata.org/\n",
    "\n",
    "Note that we are specifying the names of each column when loading the data. This will help later when we explore the data."
   ]
  },
  {
   "cell_type": "code",
   "execution_count": 2,
   "metadata": {
    "collapsed": true
   },
   "outputs": [],
   "source": [
    "url = \"https://archive.ics.uci.edu/ml/machine-learning-databases/iris/iris.data\"\n",
    "names = ['sepal-length', 'sepal-width', 'petal-length', 'petal-width', 'class']\n",
    "iris = pd.read_csv(url, names=names)"
   ]
  },
  {
   "cell_type": "markdown",
   "metadata": {},
   "source": [
    "## Step 3: Subset Iris dataset"
   ]
  },
  {
   "cell_type": "markdown",
   "metadata": {},
   "source": [
    "We want to subset the Iris dataset based on their class. Please fill in the blanks to subset the dataframes."
   ]
  },
  {
   "cell_type": "code",
   "execution_count": 3,
   "metadata": {},
   "outputs": [
    {
     "data": {
      "image/png": "[encoded data removed]",
      "text/plain": [
       "<matplotlib.figure.Figure at 0x1e5b74ebd30>"
      ]
     },
     "metadata": {},
     "output_type": "display_data"
    }
   ],
   "source": [
    "#Please get the list of value in \"class\":\n",
    "np.unique(iris[\"class\"])\n",
    "\n",
    "#Please subset the Iris dataset based on their \"class\" value:\n",
    "iris_setosa=iris[iris[\"class\"] ==\"Iris-setosa\"]\n",
    "iris_versicolor=iris[iris[\"class\"] ==\"Iris-versicolor\"]\n",
    "iris_virginica=iris[iris[\"class\"] ==\"Iris-virginica\"]\n",
    "\n",
    "iris_setosa.shape\n",
    "iris_versicolor.shape\n",
    "iris_virginica.shape\n",
    "\n",
    "mean=np.mean(iris[\"sepal-length\"])\n",
    "std=np.std(iris[\"sepal-length\"])\n",
    "median=np.median(iris[\"sepal-length\"])\n",
    "min=np.min(iris[\"sepal-length\"])\n",
    "max=np.max(iris[\"sepal-length\"])\n",
    "\n",
    "%matplotlib inline\n",
    "box=plt.boxplot(iris[\"sepal-length\"])"
   ]
  },
  {
   "cell_type": "code",
   "execution_count": 4,
   "metadata": {
    "scrolled": false
   },
   "outputs": [
    {
     "data": {
      "image/png": "[encoded data removed]",
      "text/plain": [
       "<matplotlib.figure.Figure at 0x1e5b45854a8>"
      ]
     },
     "metadata": {},
     "output_type": "display_data"
    }
   ],
   "source": [
    "hist_100 = plt.hist(iris[\"sepal-length\"])"
   ]
  },
  {
   "cell_type": "code",
   "execution_count": 5,
   "metadata": {},
   "outputs": [
    {
     "data": {
      "text/plain": [
       "Ttest_indResult(statistic=-10.520986267549111, pvalue=8.9852350374870774e-18)"
      ]
     },
     "execution_count": 5,
     "metadata": {},
     "output_type": "execute_result"
    }
   ],
   "source": [
    "from scipy import stats\n",
    "\n",
    "stats.ttest_ind(iris_setosa[\"sepal-length\"], iris_versicolor[\"sepal-length\"])"
   ]
  },
  {
   "cell_type": "code",
   "execution_count": null,
   "metadata": {
    "collapsed": true
   },
   "outputs": [],
   "source": [
    "#The sepal length is not the same in these two classes."
   ]
  }
 ],
 "metadata": {
  "kernelspec": {
   "display_name": "Python 3",
   "language": "python",
   "name": "python3"
  },
  "language_info": {
   "codemirror_mode": {
    "name": "ipython",
    "version": 3
   },
   "file_extension": ".py",
   "mimetype": "text/x-python",
   "name": "python",
   "nbconvert_exporter": "python",
   "pygments_lexer": "ipython3",
   "version": "3.6.1"
  }
 },
 "nbformat": 4,
 "nbformat_minor": 2
}
